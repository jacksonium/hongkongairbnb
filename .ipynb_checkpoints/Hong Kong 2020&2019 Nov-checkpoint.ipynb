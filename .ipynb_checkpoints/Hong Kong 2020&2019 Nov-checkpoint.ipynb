{
 "cells": [
  {
   "cell_type": "code",
   "execution_count": 1,
   "metadata": {},
   "outputs": [],
   "source": [
    "import numpy as np\n",
    "import matplotlib.pyplot as plt\n",
    "import pandas as pd\n",
    "from decimal import Decimal\n",
    "import datetime\n",
    "import folium #Longitude and Lattitude mapping.\n",
    "\n",
    "\n",
    "from sklearn.model_selection import train_test_split\n",
    "from sklearn.metrics import r2_score, mean_squared_error \n",
    "\n",
    "#Import machine learning\n",
    "from sklearn.linear_model import LinearRegression\n",
    "from sklearn.ensemble import RandomForestRegressor\n",
    "\n",
    "from sklearn.model_selection import cross_val_score\n",
    "\n",
    "import seaborn as sns\n",
    "from itertools import *\n",
    "import os\n",
    "import folium\n",
    "from folium import plugins\n",
    "from folium.plugins import MarkerCluster \n",
    "from IPython.display import HTML, display"
   ]
  },
  {
   "cell_type": "code",
   "execution_count": 2,
   "metadata": {},
   "outputs": [
    {
     "ename": "KeyboardInterrupt",
     "evalue": "",
     "output_type": "error",
     "traceback": [
      "\u001b[0;31m---------------------------------------------------------------------------\u001b[0m",
      "\u001b[0;31mKeyboardInterrupt\u001b[0m                         Traceback (most recent call last)",
      "\u001b[0;32m<ipython-input-2-9192ec2f32f1>\u001b[0m in \u001b[0;36m<module>\u001b[0;34m\u001b[0m\n\u001b[1;32m      3\u001b[0m \u001b[0mdetail_reviews_2020\u001b[0m \u001b[0;34m=\u001b[0m \u001b[0mpd\u001b[0m\u001b[0;34m.\u001b[0m\u001b[0mread_csv\u001b[0m\u001b[0;34m(\u001b[0m\u001b[0;34m'2020_hongkong_reviews.csv'\u001b[0m\u001b[0;34m)\u001b[0m\u001b[0;34m\u001b[0m\u001b[0;34m\u001b[0m\u001b[0m\n\u001b[1;32m      4\u001b[0m \u001b[0;34m\u001b[0m\u001b[0m\n\u001b[0;32m----> 5\u001b[0;31m \u001b[0mcalendar_2019\u001b[0m \u001b[0;34m=\u001b[0m \u001b[0mpd\u001b[0m\u001b[0;34m.\u001b[0m\u001b[0mread_csv\u001b[0m\u001b[0;34m(\u001b[0m\u001b[0;34m'2019_hongkong_calendar.csv'\u001b[0m\u001b[0;34m)\u001b[0m\u001b[0;34m\u001b[0m\u001b[0;34m\u001b[0m\u001b[0m\n\u001b[0m\u001b[1;32m      6\u001b[0m \u001b[0mdetail_listing_2019\u001b[0m \u001b[0;34m=\u001b[0m \u001b[0mpd\u001b[0m\u001b[0;34m.\u001b[0m\u001b[0mread_csv\u001b[0m\u001b[0;34m(\u001b[0m\u001b[0;34m'2019_hongkong_listings.csv'\u001b[0m\u001b[0;34m)\u001b[0m\u001b[0;34m\u001b[0m\u001b[0;34m\u001b[0m\u001b[0m\n\u001b[1;32m      7\u001b[0m \u001b[0mdetail_reviews_2019\u001b[0m \u001b[0;34m=\u001b[0m \u001b[0mpd\u001b[0m\u001b[0;34m.\u001b[0m\u001b[0mread_csv\u001b[0m\u001b[0;34m(\u001b[0m\u001b[0;34m'2019_hongkong_reviews.csv'\u001b[0m\u001b[0;34m)\u001b[0m\u001b[0;34m\u001b[0m\u001b[0;34m\u001b[0m\u001b[0m\n",
      "\u001b[0;32m/opt/anaconda3/lib/python3.8/site-packages/pandas/io/parsers.py\u001b[0m in \u001b[0;36mread_csv\u001b[0;34m(filepath_or_buffer, sep, delimiter, header, names, index_col, usecols, squeeze, prefix, mangle_dupe_cols, dtype, engine, converters, true_values, false_values, skipinitialspace, skiprows, skipfooter, nrows, na_values, keep_default_na, na_filter, verbose, skip_blank_lines, parse_dates, infer_datetime_format, keep_date_col, date_parser, dayfirst, cache_dates, iterator, chunksize, compression, thousands, decimal, lineterminator, quotechar, quoting, doublequote, escapechar, comment, encoding, dialect, error_bad_lines, warn_bad_lines, delim_whitespace, low_memory, memory_map, float_precision)\u001b[0m\n\u001b[1;32m    686\u001b[0m     )\n\u001b[1;32m    687\u001b[0m \u001b[0;34m\u001b[0m\u001b[0m\n\u001b[0;32m--> 688\u001b[0;31m     \u001b[0;32mreturn\u001b[0m \u001b[0m_read\u001b[0m\u001b[0;34m(\u001b[0m\u001b[0mfilepath_or_buffer\u001b[0m\u001b[0;34m,\u001b[0m \u001b[0mkwds\u001b[0m\u001b[0;34m)\u001b[0m\u001b[0;34m\u001b[0m\u001b[0;34m\u001b[0m\u001b[0m\n\u001b[0m\u001b[1;32m    689\u001b[0m \u001b[0;34m\u001b[0m\u001b[0m\n\u001b[1;32m    690\u001b[0m \u001b[0;34m\u001b[0m\u001b[0m\n",
      "\u001b[0;32m/opt/anaconda3/lib/python3.8/site-packages/pandas/io/parsers.py\u001b[0m in \u001b[0;36m_read\u001b[0;34m(filepath_or_buffer, kwds)\u001b[0m\n\u001b[1;32m    458\u001b[0m \u001b[0;34m\u001b[0m\u001b[0m\n\u001b[1;32m    459\u001b[0m     \u001b[0;32mtry\u001b[0m\u001b[0;34m:\u001b[0m\u001b[0;34m\u001b[0m\u001b[0;34m\u001b[0m\u001b[0m\n\u001b[0;32m--> 460\u001b[0;31m         \u001b[0mdata\u001b[0m \u001b[0;34m=\u001b[0m \u001b[0mparser\u001b[0m\u001b[0;34m.\u001b[0m\u001b[0mread\u001b[0m\u001b[0;34m(\u001b[0m\u001b[0mnrows\u001b[0m\u001b[0;34m)\u001b[0m\u001b[0;34m\u001b[0m\u001b[0;34m\u001b[0m\u001b[0m\n\u001b[0m\u001b[1;32m    461\u001b[0m     \u001b[0;32mfinally\u001b[0m\u001b[0;34m:\u001b[0m\u001b[0;34m\u001b[0m\u001b[0;34m\u001b[0m\u001b[0m\n\u001b[1;32m    462\u001b[0m         \u001b[0mparser\u001b[0m\u001b[0;34m.\u001b[0m\u001b[0mclose\u001b[0m\u001b[0;34m(\u001b[0m\u001b[0;34m)\u001b[0m\u001b[0;34m\u001b[0m\u001b[0;34m\u001b[0m\u001b[0m\n",
      "\u001b[0;32m/opt/anaconda3/lib/python3.8/site-packages/pandas/io/parsers.py\u001b[0m in \u001b[0;36mread\u001b[0;34m(self, nrows)\u001b[0m\n\u001b[1;32m   1196\u001b[0m     \u001b[0;32mdef\u001b[0m \u001b[0mread\u001b[0m\u001b[0;34m(\u001b[0m\u001b[0mself\u001b[0m\u001b[0;34m,\u001b[0m \u001b[0mnrows\u001b[0m\u001b[0;34m=\u001b[0m\u001b[0;32mNone\u001b[0m\u001b[0;34m)\u001b[0m\u001b[0;34m:\u001b[0m\u001b[0;34m\u001b[0m\u001b[0;34m\u001b[0m\u001b[0m\n\u001b[1;32m   1197\u001b[0m         \u001b[0mnrows\u001b[0m \u001b[0;34m=\u001b[0m \u001b[0m_validate_integer\u001b[0m\u001b[0;34m(\u001b[0m\u001b[0;34m\"nrows\"\u001b[0m\u001b[0;34m,\u001b[0m \u001b[0mnrows\u001b[0m\u001b[0;34m)\u001b[0m\u001b[0;34m\u001b[0m\u001b[0;34m\u001b[0m\u001b[0m\n\u001b[0;32m-> 1198\u001b[0;31m         \u001b[0mret\u001b[0m \u001b[0;34m=\u001b[0m \u001b[0mself\u001b[0m\u001b[0;34m.\u001b[0m\u001b[0m_engine\u001b[0m\u001b[0;34m.\u001b[0m\u001b[0mread\u001b[0m\u001b[0;34m(\u001b[0m\u001b[0mnrows\u001b[0m\u001b[0;34m)\u001b[0m\u001b[0;34m\u001b[0m\u001b[0;34m\u001b[0m\u001b[0m\n\u001b[0m\u001b[1;32m   1199\u001b[0m \u001b[0;34m\u001b[0m\u001b[0m\n\u001b[1;32m   1200\u001b[0m         \u001b[0;31m# May alter columns / col_dict\u001b[0m\u001b[0;34m\u001b[0m\u001b[0;34m\u001b[0m\u001b[0;34m\u001b[0m\u001b[0m\n",
      "\u001b[0;32m/opt/anaconda3/lib/python3.8/site-packages/pandas/io/parsers.py\u001b[0m in \u001b[0;36mread\u001b[0;34m(self, nrows)\u001b[0m\n\u001b[1;32m   2155\u001b[0m     \u001b[0;32mdef\u001b[0m \u001b[0mread\u001b[0m\u001b[0;34m(\u001b[0m\u001b[0mself\u001b[0m\u001b[0;34m,\u001b[0m \u001b[0mnrows\u001b[0m\u001b[0;34m=\u001b[0m\u001b[0;32mNone\u001b[0m\u001b[0;34m)\u001b[0m\u001b[0;34m:\u001b[0m\u001b[0;34m\u001b[0m\u001b[0;34m\u001b[0m\u001b[0m\n\u001b[1;32m   2156\u001b[0m         \u001b[0;32mtry\u001b[0m\u001b[0;34m:\u001b[0m\u001b[0;34m\u001b[0m\u001b[0;34m\u001b[0m\u001b[0m\n\u001b[0;32m-> 2157\u001b[0;31m             \u001b[0mdata\u001b[0m \u001b[0;34m=\u001b[0m \u001b[0mself\u001b[0m\u001b[0;34m.\u001b[0m\u001b[0m_reader\u001b[0m\u001b[0;34m.\u001b[0m\u001b[0mread\u001b[0m\u001b[0;34m(\u001b[0m\u001b[0mnrows\u001b[0m\u001b[0;34m)\u001b[0m\u001b[0;34m\u001b[0m\u001b[0;34m\u001b[0m\u001b[0m\n\u001b[0m\u001b[1;32m   2158\u001b[0m         \u001b[0;32mexcept\u001b[0m \u001b[0mStopIteration\u001b[0m\u001b[0;34m:\u001b[0m\u001b[0;34m\u001b[0m\u001b[0;34m\u001b[0m\u001b[0m\n\u001b[1;32m   2159\u001b[0m             \u001b[0;32mif\u001b[0m \u001b[0mself\u001b[0m\u001b[0;34m.\u001b[0m\u001b[0m_first_chunk\u001b[0m\u001b[0;34m:\u001b[0m\u001b[0;34m\u001b[0m\u001b[0;34m\u001b[0m\u001b[0m\n",
      "\u001b[0;32mpandas/_libs/parsers.pyx\u001b[0m in \u001b[0;36mpandas._libs.parsers.TextReader.read\u001b[0;34m()\u001b[0m\n",
      "\u001b[0;32mpandas/_libs/parsers.pyx\u001b[0m in \u001b[0;36mpandas._libs.parsers.TextReader._read_low_memory\u001b[0;34m()\u001b[0m\n",
      "\u001b[0;32mpandas/_libs/parsers.pyx\u001b[0m in \u001b[0;36mpandas._libs.parsers.TextReader._read_rows\u001b[0;34m()\u001b[0m\n",
      "\u001b[0;32mpandas/_libs/parsers.pyx\u001b[0m in \u001b[0;36mpandas._libs.parsers.TextReader._convert_column_data\u001b[0;34m()\u001b[0m\n",
      "\u001b[0;32mpandas/_libs/parsers.pyx\u001b[0m in \u001b[0;36mpandas._libs.parsers.TextReader._convert_tokens\u001b[0;34m()\u001b[0m\n",
      "\u001b[0;32mpandas/_libs/parsers.pyx\u001b[0m in \u001b[0;36mpandas._libs.parsers.TextReader._convert_with_dtype\u001b[0;34m()\u001b[0m\n",
      "\u001b[0;32m/opt/anaconda3/lib/python3.8/site-packages/pandas/core/dtypes/common.py\u001b[0m in \u001b[0;36mis_categorical_dtype\u001b[0;34m(arr_or_dtype)\u001b[0m\n\u001b[1;32m    528\u001b[0m \u001b[0;34m\u001b[0m\u001b[0m\n\u001b[1;32m    529\u001b[0m \u001b[0;34m\u001b[0m\u001b[0m\n\u001b[0;32m--> 530\u001b[0;31m \u001b[0;32mdef\u001b[0m \u001b[0mis_categorical_dtype\u001b[0m\u001b[0;34m(\u001b[0m\u001b[0marr_or_dtype\u001b[0m\u001b[0;34m)\u001b[0m \u001b[0;34m->\u001b[0m \u001b[0mbool\u001b[0m\u001b[0;34m:\u001b[0m\u001b[0;34m\u001b[0m\u001b[0;34m\u001b[0m\u001b[0m\n\u001b[0m\u001b[1;32m    531\u001b[0m     \"\"\"\n\u001b[1;32m    532\u001b[0m     \u001b[0mCheck\u001b[0m \u001b[0mwhether\u001b[0m \u001b[0man\u001b[0m \u001b[0marray\u001b[0m\u001b[0;34m-\u001b[0m\u001b[0mlike\u001b[0m \u001b[0;32mor\u001b[0m \u001b[0mdtype\u001b[0m \u001b[0;32mis\u001b[0m \u001b[0mof\u001b[0m \u001b[0mthe\u001b[0m \u001b[0mCategorical\u001b[0m \u001b[0mdtype\u001b[0m\u001b[0;34m.\u001b[0m\u001b[0;34m\u001b[0m\u001b[0;34m\u001b[0m\u001b[0m\n",
      "\u001b[0;31mKeyboardInterrupt\u001b[0m: "
     ]
    }
   ],
   "source": [
    "calendar_2020 = pd.read_csv('2020_hongkong_calendar.csv')\n",
    "detail_listing_2020 = pd.read_csv('2020_hongkong_listings.csv') \n",
    "detail_reviews_2020 = pd.read_csv('2020_hongkong_reviews.csv') \n",
    "\n",
    "calendar_2019 = pd.read_csv('2019_hongkong_calendar.csv')\n",
    "detail_listing_2019 = pd.read_csv('2019_hongkong_listings.csv') \n",
    "detail_reviews_2019 = pd.read_csv('2019_hongkong_reviews.csv')\n"
   ]
  },
  {
   "cell_type": "code",
   "execution_count": null,
   "metadata": {},
   "outputs": [],
   "source": [
    "detail_listing_2020.shape"
   ]
  },
  {
   "cell_type": "code",
   "execution_count": null,
   "metadata": {},
   "outputs": [],
   "source": [
    "detail_listing_2019.shape"
   ]
  },
  {
   "cell_type": "code",
   "execution_count": null,
   "metadata": {},
   "outputs": [],
   "source": [
    "fig = plt.figure()\n",
    "ax = fig.add_axes([0,0,1,1])\n",
    "year = ['2019', '2020']\n",
    "number_of_listings = [12485,7226]\n",
    "ax.bar(year,number_of_listings)\n",
    "ax.set_title('Number of listings')\n",
    "plt.show()"
   ]
  },
  {
   "cell_type": "markdown",
   "metadata": {},
   "source": [
    "The number of listings has decreased from 12485 in 2019 Nov to 7226 in 2020 Nov. A 42% drop!"
   ]
  },
  {
   "cell_type": "code",
   "execution_count": null,
   "metadata": {},
   "outputs": [],
   "source": [
    "detail_reviews_2020['reviewer_id'].value_counts()#.loc[lambda x : x>10]"
   ]
  },
  {
   "cell_type": "code",
   "execution_count": null,
   "metadata": {},
   "outputs": [],
   "source": [
    "detail_reviews_2020.groupby('listing_id')['reviewer_id'].value_counts().loc[lambda x : x>5].sort_values(ascending=False)"
   ]
  },
  {
   "cell_type": "code",
   "execution_count": null,
   "metadata": {},
   "outputs": [],
   "source": [
    "detail_reviews_2020.loc[detail_reviews_2020['reviewer_id'] == 24779930].sort_values(by=['date'])"
   ]
  },
  {
   "cell_type": "markdown",
   "metadata": {},
   "source": [
    "The same reviewer has left 20 feedback to the same listing! Let's look at one more.. \n",
    "\n"
   ]
  },
  {
   "cell_type": "code",
   "execution_count": null,
   "metadata": {},
   "outputs": [],
   "source": [
    "detail_reviews_2020.loc[detail_reviews_2020['reviewer_id'] == 5750451].sort_values(by=['date'])"
   ]
  },
  {
   "cell_type": "code",
   "execution_count": null,
   "metadata": {},
   "outputs": [],
   "source": [
    "#calendar.info()\n",
    "calendar_2020.head()"
   ]
  },
  {
   "cell_type": "code",
   "execution_count": null,
   "metadata": {},
   "outputs": [],
   "source": [
    "calendar_2020.info()"
   ]
  },
  {
   "cell_type": "markdown",
   "metadata": {},
   "source": [
    "OK. We need to convert the datatype before we can do further analysis. "
   ]
  },
  {
   "cell_type": "code",
   "execution_count": null,
   "metadata": {},
   "outputs": [],
   "source": [
    "#convert date into date datatype\n",
    "calendar_2020['date'] = pd.to_datetime(calendar_2020['date'])\n",
    "calendar_2020['month'] = pd.to_datetime(calendar_2020['date']).dt.month\n",
    "calendar_2020['year'] = pd.to_datetime(calendar_2020['date']).dt.year\n",
    "calendar_2020['day_of_week'] = pd.to_datetime(calendar_2020['date']).dt.dayofweek\n",
    "\n",
    "#convert prices into numbers\n",
    "calendar_2020['price'] = pd.to_numeric(calendar_2020['price'].apply(lambda x: str(x).replace('$', '').replace(',', '')), errors='coerce')\n",
    "calendar_2020['adjusted_price'] = pd.to_numeric(calendar_2020['adjusted_price'].apply(lambda x: str(x).replace('$', '').replace(',', '')), errors='coerce')\n",
    "\n",
    "#convert available into boolean\n",
    "d = {'t': True, 'f': False}\n",
    "calendar_2020['available'] = calendar_2020['available'].map(d)\n",
    "\n",
    "#2019\n",
    "#convert date into date datatype\n",
    "calendar_2019['date'] = pd.to_datetime(calendar_2019['date'])\n",
    "calendar_2019['month'] = pd.to_datetime(calendar_2019['date']).dt.month\n",
    "calendar_2019['year'] = pd.to_datetime(calendar_2019['date']).dt.year\n",
    "calendar_2019['day_of_week'] = pd.to_datetime(calendar_2019['date']).dt.dayofweek\n",
    "\n",
    "#convert prices into numbers\n",
    "calendar_2019['price'] = pd.to_numeric(calendar_2019['price'].apply(lambda x: str(x).replace('$', '').replace(',', '')), errors='coerce')\n",
    "calendar_2019['adjusted_price'] = pd.to_numeric(calendar_2019['adjusted_price'].apply(lambda x: str(x).replace('$', '').replace(',', '')), errors='coerce')\n",
    "\n",
    "#convert available into boolean\n",
    "d = {'t': True, 'f': False}\n",
    "calendar_2019['available'] = calendar_2019['available'].map(d)"
   ]
  },
  {
   "cell_type": "code",
   "execution_count": null,
   "metadata": {},
   "outputs": [],
   "source": [
    "calendar_2020.info()"
   ]
  },
  {
   "cell_type": "code",
   "execution_count": null,
   "metadata": {},
   "outputs": [],
   "source": [
    "calendar_2020[calendar_2020['price'] > calendar_2020['adjusted_price']]['listing_id'].unique().size"
   ]
  },
  {
   "cell_type": "code",
   "execution_count": null,
   "metadata": {},
   "outputs": [],
   "source": [
    "calendar_2019[calendar_2019['price'] > calendar_2019['adjusted_price']]['listing_id'].unique().size"
   ]
  },
  {
   "cell_type": "markdown",
   "metadata": {},
   "source": [
    "403 properties have reduced down the price in 2020 vs 356 in 2019."
   ]
  },
  {
   "cell_type": "code",
   "execution_count": null,
   "metadata": {},
   "outputs": [],
   "source": [
    "calendar_2020.tail()"
   ]
  },
  {
   "cell_type": "code",
   "execution_count": null,
   "metadata": {},
   "outputs": [],
   "source": [
    "#filter calendar minimum_nights for less than 28 days > short term rental\n",
    "calendar_2020[(calendar_2020['minimum_nights'] < 28) & (calendar_2020['available'] == True)]['listing_id'].unique().size"
   ]
  },
  {
   "cell_type": "code",
   "execution_count": null,
   "metadata": {},
   "outputs": [],
   "source": [
    "short_term_2020 = (calendar_2020[(calendar_2020['minimum_nights'] < 28) & (calendar_2020['available'] == True)]['listing_id'].unique().size)/detail_listing_2020.shape[0]\n",
    "short_term_2020"
   ]
  },
  {
   "cell_type": "code",
   "execution_count": null,
   "metadata": {},
   "outputs": [],
   "source": [
    "#filter calendar minimum_nights for less than 28 days > short term rental\n",
    "calendar_2019[(calendar_2019['minimum_nights'] < 28) & (calendar_2019['available'] == True)]['listing_id'].unique().size"
   ]
  },
  {
   "cell_type": "code",
   "execution_count": null,
   "metadata": {},
   "outputs": [],
   "source": [
    "short_term_2019 = (calendar_2019[(calendar_2019['minimum_nights'] < 28) & (calendar_2019['available'] == True)]['listing_id'].unique().size)/detail_listing_2019.shape[0]\n",
    "short_term_2019"
   ]
  },
  {
   "cell_type": "markdown",
   "metadata": {},
   "source": [
    "There are over 67% airbnb lisings in Hong Kong that offer short term rentals (28 days or less AND available) in 2020, compared with 58% in 2019! This is probably due to 1) Smaller base as properties are taken off the market or to become long term rental in 2020. 2) More available units in general in 2020.\n",
    "\n",
    "\n",
    "Short term rental => required license in HK => possible illegal listing! \n",
    "\n",
    "How do we find out?! There is a list of licensed guest house in HK https://www.hadla.gov.hk/filemanager/en/docs/list_licensed_guesthouse_eng.pdf\n",
    "\n",
    "However we dont have the address for airbnb dataset, perhaps do something with longitude/latitude? But then the government licsensed guesthouse have no longitude/latitude coordinates... \n",
    "\n",
    "Maybe save it for some other exercise when I have time...\n",
    "\n"
   ]
  },
  {
   "cell_type": "code",
   "execution_count": null,
   "metadata": {},
   "outputs": [],
   "source": [
    "calendar_test = calendar_2020.groupby('listing_id')['date'].count().reset_index()\n",
    "calendar_test['date'].value_counts()"
   ]
  },
  {
   "cell_type": "markdown",
   "metadata": {},
   "source": [
    "Lets look at availability."
   ]
  },
  {
   "cell_type": "code",
   "execution_count": null,
   "metadata": {},
   "outputs": [],
   "source": [
    "calendar_test = calendar_2020.groupby('available')['price'].value_counts()\n",
    "\n",
    "calendar_test"
   ]
  },
  {
   "cell_type": "code",
   "execution_count": null,
   "metadata": {},
   "outputs": [],
   "source": [
    "calendar_2019['available'].value_counts()"
   ]
  },
  {
   "cell_type": "code",
   "execution_count": null,
   "metadata": {},
   "outputs": [],
   "source": [
    "# Data to plot\n",
    "labels = 'Available', 'Unavailable'\n",
    "sizes = [2154184,2402841]\n",
    "colors = ['gold', 'lightskyblue']\n",
    "\n",
    "# Plot\n",
    "ax1 = plt.pie(sizes, labels=labels, colors=colors,\n",
    "autopct='%1.1f%%', shadow=True, startangle=100)\n",
    "\n",
    "plt.axis('equal')\n",
    "plt.title(\"Availability in 2019\")\n",
    "plt.show()"
   ]
  },
  {
   "cell_type": "code",
   "execution_count": null,
   "metadata": {},
   "outputs": [],
   "source": [
    "calendar_2020['available'].value_counts()"
   ]
  },
  {
   "cell_type": "code",
   "execution_count": null,
   "metadata": {},
   "outputs": [],
   "source": [
    "# Data to plot\n",
    "labels = 'Available', 'Unavailable'\n",
    "sizes = [1842285,795205]\n",
    "colors = ['gold', 'lightskyblue']\n",
    "\n",
    "# Plot\n",
    "ax1 = plt.pie(sizes, labels=labels, colors=colors,\n",
    "autopct='%1.1f%%', shadow=True, startangle=100)\n",
    "\n",
    "plt.axis('equal')\n",
    "plt.title(\"Availability in 2020\")\n",
    "plt.show()"
   ]
  },
  {
   "cell_type": "markdown",
   "metadata": {},
   "source": [
    "70% of the 2020 listings are marked available vs 47% of the 2019 listings."
   ]
  },
  {
   "cell_type": "code",
   "execution_count": null,
   "metadata": {},
   "outputs": [],
   "source": [
    "calendar_2020['available'].value_counts()"
   ]
  },
  {
   "cell_type": "code",
   "execution_count": null,
   "metadata": {},
   "outputs": [],
   "source": [
    "# Lets find out if there is any price trend.\n",
    "\n",
    "# Taking average\n",
    "calendar_mean = calendar_2020.dropna().groupby('date')['adjusted_price'].mean().reset_index()\n",
    "\n",
    "# plot avg listings prices over time.\n",
    "plt.figure(figsize=(15, 8))\n",
    "plt.plot(calendar_mean.date, calendar_mean.adjusted_price, color='b', marker='.', linewidth=0.9)\n",
    "plt.title(\"2020 Nov to 2021 Nov listing price\")\n",
    "plt.xlabel('Date')\n",
    "plt.ylabel('Average listing price')\n",
    "plt.grid()"
   ]
  },
  {
   "cell_type": "code",
   "execution_count": null,
   "metadata": {},
   "outputs": [],
   "source": [
    "calendar_mean = calendar_2020.dropna().groupby(['year','month'])['adjusted_price'].mean().reset_index()\n",
    "calendar_mean"
   ]
  },
  {
   "cell_type": "code",
   "execution_count": null,
   "metadata": {},
   "outputs": [],
   "source": [
    "# Lets find out if there is any price trend.\n",
    "\n",
    "# Taking average\n",
    "calendar_mean = calendar_2020.dropna().groupby(['year','month'])['adjusted_price'].mean().reset_index()\n",
    "\n",
    "# plot avg listings prices over time.\n",
    "plt.figure(figsize=(15, 8))\n",
    "labels = ['11','12','1','2','3','4','5','6','7','8','9','10','11']\n",
    "plt.plot(calendar_mean.index, calendar_mean.adjusted_price, color='b', marker='.', linewidth=0.9)\n",
    "plt.xticks(calendar_mean.index, labels, rotation ='horizontal')\n",
    "plt.title(\"2020 Nov to 2021 Nov averaged monthly listing price\")\n",
    "plt.xlabel('Month')\n",
    "plt.ylabel('Average listing price')\n",
    "plt.grid()"
   ]
  },
  {
   "cell_type": "markdown",
   "metadata": {},
   "source": [
    "Let's take a look at the listing data."
   ]
  },
  {
   "cell_type": "code",
   "execution_count": null,
   "metadata": {},
   "outputs": [],
   "source": [
    "detail_listing_2020.head(1)"
   ]
  },
  {
   "cell_type": "markdown",
   "metadata": {},
   "source": [
    "Focus on a few interesting column.."
   ]
  },
  {
   "cell_type": "code",
   "execution_count": null,
   "metadata": {},
   "outputs": [],
   "source": [
    "filtered_listing = detail_listing_2020[['id','property_type', 'room_type', 'accommodates', 'neighbourhood_cleansed', 'review_scores_value', 'number_of_reviews', \n",
    "                                   'bedrooms', 'price', 'longitude', 'latitude']].copy()\n",
    "#convert prices into numbers\n",
    "filtered_listing['price'] = pd.to_numeric(filtered_listing['price'].apply(lambda x: str(x).replace('$', '').replace(',', '')), errors='coerce')\n",
    "\n",
    "filtered_listing.info()"
   ]
  },
  {
   "cell_type": "code",
   "execution_count": null,
   "metadata": {},
   "outputs": [],
   "source": [
    "filtered_listing"
   ]
  },
  {
   "cell_type": "markdown",
   "metadata": {},
   "source": [
    "Do we have more apartment or room on airbnb in Hong Kong?"
   ]
  },
  {
   "cell_type": "code",
   "execution_count": null,
   "metadata": {},
   "outputs": [],
   "source": [
    "filtered_listing['property_type'].value_counts()"
   ]
  },
  {
   "cell_type": "code",
   "execution_count": null,
   "metadata": {},
   "outputs": [],
   "source": [
    "plt.figure(figsize=(20,20))\n",
    "plt.xticks(rotation=90)\n",
    "sns.countplot(x=(filtered_listing)[('property_type')], order = filtered_listing['property_type'].value_counts().index)\n",
    "plt.show()"
   ]
  },
  {
   "cell_type": "markdown",
   "metadata": {},
   "source": [
    "Cant really tell from this as the category looks a bit messy...Lets try 'room_type'.."
   ]
  },
  {
   "cell_type": "code",
   "execution_count": null,
   "metadata": {},
   "outputs": [],
   "source": [
    "filtered_listing['room_type'].value_counts()"
   ]
  },
  {
   "cell_type": "code",
   "execution_count": null,
   "metadata": {},
   "outputs": [],
   "source": [
    "plt.figure(figsize=(5,5))\n",
    "plt.xticks(rotation=90)\n",
    "sns.countplot(x=(filtered_listing)[('room_type')], order = filtered_listing['room_type'].value_counts().index, palette=['#0065A2','#FFA700','#00CDAC','#FF5768'])\n",
    "plt.title('Property Type in 2020')\n",
    "plt.ylim(0, 6000)\n",
    "plt.show()"
   ]
  },
  {
   "cell_type": "markdown",
   "metadata": {},
   "source": [
    "That's much better. Most of the airbnb listings in Hong Kong are private room in 2020!"
   ]
  },
  {
   "cell_type": "markdown",
   "metadata": {},
   "source": [
    "what is the most popular neighbourhood? (Or the neighbourhood that has highest number of listings)"
   ]
  },
  {
   "cell_type": "code",
   "execution_count": null,
   "metadata": {},
   "outputs": [],
   "source": [
    "(filtered_listing['neighbourhood_cleansed'].value_counts())/(filtered_listing['neighbourhood_cleansed'].count())"
   ]
  },
  {
   "cell_type": "code",
   "execution_count": null,
   "metadata": {},
   "outputs": [],
   "source": [
    "plt.figure(figsize=(20,20))\n",
    "plt.xticks(rotation=90)\n",
    "sns.countplot(x=(filtered_listing)[('neighbourhood_cleansed')], hue= filtered_listing['room_type'], order = filtered_listing['neighbourhood_cleansed'].value_counts().index)\n",
    "plt.show()\n",
    "\n"
   ]
  },
  {
   "cell_type": "code",
   "execution_count": null,
   "metadata": {},
   "outputs": [],
   "source": [
    "#A Stacked bar chart\n",
    "\n",
    "df_plot = filtered_listing.groupby(['room_type', 'neighbourhood_cleansed']).size().reset_index().pivot(columns='room_type', index='neighbourhood_cleansed', values=0)\n",
    "df_plot = df_plot.fillna(0)\n",
    "\n",
    "df_plot['total'] = df_plot['Private room'] + df_plot['Entire home/apt'] + df_plot['Shared room'] + df_plot['Hotel room']\n",
    "df_plot = df_plot.sort_values(by=['total'], ascending = False).drop(['total'], axis=1)\n",
    "df_plot.plot(kind='bar', stacked=True)\n"
   ]
  },
  {
   "cell_type": "code",
   "execution_count": null,
   "metadata": {},
   "outputs": [],
   "source": [
    "neighbourhood_count = filtered_listing.groupby('neighbourhood_cleansed').property_type.count().sort_values(ascending=False).reset_index()\n",
    "neighbourhood_count = neighbourhood_count.rename(columns={\"property_type\": \"property_count\"})\n",
    "#neighbourhood_count.info() \n",
    "neighbourhood_count"
   ]
  },
  {
   "cell_type": "markdown",
   "metadata": {},
   "source": [
    "The following plot also indicate where these listings are concentrated. "
   ]
  },
  {
   "cell_type": "code",
   "execution_count": null,
   "metadata": {},
   "outputs": [],
   "source": [
    "\n",
    "#Creates a map of Hong Kong.\n",
    "m = folium.Map(location=[22.34, 114.1], zoom_start = 11)\n",
    "m.save('2020.html')\n",
    "\n",
    "\n",
    "#Takes the latitude and longitude coordinates and zips them into a form to be plotted.\n",
    "lat = pd.to_numeric(filtered_listing['latitude'], errors = 'coerce')\n",
    "lon = pd.to_numeric(filtered_listing['longitude'], errors = 'coerce')\n",
    "\n",
    "#Zip togethers each list of latitude and longitude coordinates. \n",
    "lat_lon = list(zip(lat,lon))\n",
    "\n",
    "\n",
    "mc = MarkerCluster().add_to(m)\n",
    "for i in range(0,len(filtered_listing)):\n",
    "    folium.Marker(location=lat_lon[i]).add_to(mc)\n",
    "\n",
    "m.save('2020.html')\n",
    "display(m)\n"
   ]
  },
  {
   "cell_type": "code",
   "execution_count": null,
   "metadata": {},
   "outputs": [],
   "source": [
    "filtered_listing.hist()"
   ]
  },
  {
   "cell_type": "markdown",
   "metadata": {},
   "source": [
    "Lets try to build a price model. The pricing data in calendar reflect pricing changes throughout the year so it should be used instead of the price column on the listing dataframe. Lets merge them and use price data in calendar. \n"
   ]
  },
  {
   "cell_type": "code",
   "execution_count": null,
   "metadata": {},
   "outputs": [],
   "source": [
    "filtered_listing.rename(index=str, columns={\"id\": \"listing_id\"}, inplace= True)\n",
    "filtered_listing_merged = pd.merge(filtered_listing, calendar_2020 , on= 'listing_id')\n",
    "\n",
    "#changing categorial variable into binary dummies\n",
    "filtered_listing_merged = pd.get_dummies(filtered_listing_merged, columns=[\"room_type\", \"neighbourhood_cleansed\"], prefix=[\"room_type\", \"neighbourhood\"])\n",
    "filtered_listing_merged\n",
    "\n",
    "#plt.figure(figsize = (16,16))\n",
    "#sns.heatmap(filtered_listing2.corr(), annot=True, fmt=\".2f\");"
   ]
  },
  {
   "cell_type": "markdown",
   "metadata": {},
   "source": [
    "Attempt 1: drop NA"
   ]
  },
  {
   "cell_type": "code",
   "execution_count": null,
   "metadata": {},
   "outputs": [],
   "source": [
    "test = filtered_listing_merged.dropna()\n",
    "\n",
    "#Split into explanatory and response variables\n",
    "\n",
    "X = test.drop(['price_x','price_y','adjusted_price','property_type','date','listing_id','longitude','latitude','minimum_nights','maximum_nights'], axis=1)\n",
    "y = test['adjusted_price']\n",
    "\n",
    "\n",
    "#Split into train and test\n",
    "X_train, X_test, y_train, y_test = train_test_split(X, y, test_size=.3, random_state=42)\n",
    "\n",
    "lm_model = LinearRegression(normalize=True) # Instantiate\n",
    "lm_model.fit(X_train, y_train) #Fit\n",
    "\n",
    "#Predict and score the model\n",
    "y_train_preds = lm_model.predict(X_train) \n",
    "y_test_preds = lm_model.predict(X_test) \n",
    "\n",
    "\n",
    "train_score = r2_score(y_train,y_train_preds)\n",
    "test_score = r2_score(y_test, y_test_preds)#r2_score\n",
    "\n",
    "print('Linear Regression r2 score => train: %.3f, test: %.3f' % (\n",
    "        train_score,\n",
    "        test_score))\n"
   ]
  },
  {
   "cell_type": "code",
   "execution_count": null,
   "metadata": {
    "scrolled": true
   },
   "outputs": [],
   "source": [
    "#Random Forest Regressor model\n",
    "forest = RandomForestRegressor(n_estimators=100, \n",
    "                               random_state=42, \n",
    "                               max_depth=10,\n",
    "                               n_jobs=-1)\n",
    "forest.fit(X_train, y_train)\n",
    "\n",
    "#calculate scores for the model\n",
    "y_train_preds = forest.predict(X_train)\n",
    "y_test_preds = forest.predict(X_test)\n",
    "\n",
    "print('Random Forest MSE train: %.3f, test: %.3f' % (\n",
    "        mean_squared_error(y_train, y_train_preds),\n",
    "        mean_squared_error(y_test, y_test_preds)))\n",
    "print('Random Forest R^2 train: %.3f, test: %.3f' % (\n",
    "        r2_score(y_train, y_train_preds),\n",
    "        r2_score(y_test, y_test_preds)))"
   ]
  },
  {
   "cell_type": "markdown",
   "metadata": {},
   "source": [
    "Lets try to use more variables!"
   ]
  },
  {
   "cell_type": "code",
   "execution_count": null,
   "metadata": {},
   "outputs": [],
   "source": [
    "filtered_listing_long = detail_listing_2020[['id',\n",
    "'bedrooms',\n",
    "'host_is_superhost',\n",
    "'host_listings_count',\n",
    "'host_total_listings_count',\n",
    "'neighbourhood_cleansed',\n",
    "#'latitude',\n",
    "#'longitude',\n",
    "'room_type',\n",
    "'accommodates',\n",
    "'number_of_reviews',\n",
    "'number_of_reviews_ltm',\n",
    "'number_of_reviews_l30d',\n",
    "'review_scores_rating',\n",
    "'review_scores_accuracy',\n",
    "'review_scores_cleanliness',\n",
    "'review_scores_checkin',\n",
    "'review_scores_communication',\n",
    "'review_scores_location',\n",
    "'review_scores_value',\n",
    "'instant_bookable',\n",
    "#'calculated_host_listings_count',\n",
    "#'calculated_host_listings_count_entire_homes',\n",
    "#'calculated_host_listings_count_private_rooms',\n",
    "#'calculated_host_listings_count_shared_rooms',\n",
    "'reviews_per_month'\n",
    "                                       ]].copy()\n",
    "\n",
    "\n",
    "\n",
    "filtered_listing_long.info()"
   ]
  },
  {
   "cell_type": "code",
   "execution_count": null,
   "metadata": {},
   "outputs": [],
   "source": [
    "#convert available into boolean\n",
    "filtered_listing_long['host_is_superhost'] = filtered_listing_long['host_is_superhost'].map(d)\n",
    "filtered_listing_long['instant_bookable'] = filtered_listing_long['instant_bookable'].map(d)\n",
    "\n",
    "filtered_listing_long.rename(index=str, columns={\"id\": \"listing_id\"}, inplace= True)\n",
    "filtered_listing_long_merged = pd.merge(filtered_listing_long, calendar_2020 , on= 'listing_id')\n",
    "\n",
    "filtered_listing_long_merged = pd.get_dummies(filtered_listing_long_merged, columns=[\"room_type\", \"neighbourhood_cleansed\"], prefix=[\"room_type\", \"neighbourhood\"])\n",
    "filtered_listing_long_merged"
   ]
  },
  {
   "cell_type": "code",
   "execution_count": null,
   "metadata": {},
   "outputs": [],
   "source": [
    "filtered_listing_long_merged.shape"
   ]
  },
  {
   "cell_type": "code",
   "execution_count": null,
   "metadata": {},
   "outputs": [],
   "source": [
    "filtered_listing_long_merged.isnull().mean()"
   ]
  },
  {
   "cell_type": "code",
   "execution_count": null,
   "metadata": {},
   "outputs": [],
   "source": [
    "filtered_listing_long_merged.dropna().shape"
   ]
  },
  {
   "cell_type": "markdown",
   "metadata": {},
   "source": [
    "Attempt 2: long listing, drop NA"
   ]
  },
  {
   "cell_type": "code",
   "execution_count": null,
   "metadata": {},
   "outputs": [],
   "source": [
    "filtered_listing_long_merged_test = filtered_listing_long_merged.dropna()\n",
    "\n",
    "#Split into explanatory and response variables\n",
    "\n",
    "\n",
    "X = filtered_listing_long_merged_test.drop(['price','adjusted_price','date','listing_id','year'], axis=1)\n",
    "y = filtered_listing_long_merged_test['adjusted_price']\n",
    "\n",
    "\n",
    "#Split into train and test\n",
    "X_train, X_test, y_train, y_test = train_test_split(X, y, test_size=.3, random_state=42)\n",
    "\n",
    "lm_model = LinearRegression(normalize=True) # Instantiate\n",
    "lm_model.fit(X_train, y_train) #Fit\n",
    "\n",
    "#Predict and score the model\n",
    "y_train_preds = lm_model.predict(X_train) \n",
    "y_test_preds = lm_model.predict(X_test) \n",
    "\n",
    "\n",
    "train_score = r2_score(y_train,y_train_preds)\n",
    "test_score = r2_score(y_test, y_test_preds)#r2_score\n",
    "\n",
    "print('Linear Regression r2 score => train: %.3f, test: %.3f' % (\n",
    "        train_score,\n",
    "        test_score))"
   ]
  },
  {
   "cell_type": "code",
   "execution_count": null,
   "metadata": {},
   "outputs": [],
   "source": [
    "X.info()"
   ]
  },
  {
   "cell_type": "code",
   "execution_count": null,
   "metadata": {},
   "outputs": [],
   "source": [
    "#Using a Random Forest Regressor model\n",
    "forest = RandomForestRegressor(n_estimators=100, \n",
    "                               random_state=42, \n",
    "                               max_depth=10,\n",
    "                               n_jobs=-1)\n",
    "#forest.fit(X_train, y_train.squeeze())\n",
    "forest.fit(X_train, y_train)\n",
    "\n",
    "#calculate scores for the model\n",
    "y_train_preds = forest.predict(X_train)\n",
    "y_test_preds = forest.predict(X_test)\n",
    "\n",
    "print('Random Forest MSE train: %.3f, test: %.3f' % (\n",
    "        mean_squared_error(y_train, y_train_preds),\n",
    "        mean_squared_error(y_test, y_test_preds)))\n",
    "print('Random Forest R^2 train: %.3f, test: %.3f' % (\n",
    "        r2_score(y_train, y_train_preds),\n",
    "        r2_score(y_test, y_test_preds)))"
   ]
  }
 ],
 "metadata": {
  "kernelspec": {
   "display_name": "Python 3",
   "language": "python",
   "name": "python3"
  },
  "language_info": {
   "codemirror_mode": {
    "name": "ipython",
    "version": 3
   },
   "file_extension": ".py",
   "mimetype": "text/x-python",
   "name": "python",
   "nbconvert_exporter": "python",
   "pygments_lexer": "ipython3",
   "version": "3.8.5"
  }
 },
 "nbformat": 4,
 "nbformat_minor": 4
}
